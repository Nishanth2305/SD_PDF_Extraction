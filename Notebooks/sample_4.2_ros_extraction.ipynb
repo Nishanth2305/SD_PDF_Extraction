{
 "cells": [
  {
   "cell_type": "code",
   "id": "initial_id",
   "metadata": {
    "collapsed": true,
    "ExecuteTime": {
     "end_time": "2025-03-18T14:36:55.765364Z",
     "start_time": "2025-03-18T14:36:53.457817Z"
    }
   },
   "source": [
    "import os\n",
    "import re\n",
    "import warnings\n",
    "\n",
    "import camelot\n",
    "import pandas as pd\n",
    "import pdfplumber\n",
    "from PyPDF2 import PdfReader\n",
    "\n",
    "warnings.filterwarnings(\"ignore\")"
   ],
   "outputs": [],
   "execution_count": 1
  },
  {
   "metadata": {
    "ExecuteTime": {
     "end_time": "2025-03-18T14:36:55.791211Z",
     "start_time": "2025-03-18T14:36:55.776486Z"
    }
   },
   "cell_type": "code",
   "source": [
    "# Function to extract table from a single PDF\n",
    "def extract_bsn_table_from_pdf(pdf_path):\n",
    "    try:\n",
    "        # print(f\"\\nExtracting BSN table from '{os.path.basename(pdf_path)}'...\")\n",
    "        tables = camelot.read_pdf(pdf_path, pages=\"1\", flavor=\"lattice\")\n",
    "        if tables:\n",
    "            return tables[0].df  # Return the first table as a DataFrame\n",
    "        else:\n",
    "            print(f\"\\nNo tables found in '{pdf_path}'.\")\n",
    "            return None\n",
    "    except Exception as e:\n",
    "        print(f\"\\nError processing '{pdf_path}': {e}\")\n",
    "        return None\n",
    "\n",
    "\n",
    "# Function to extract \"Service Description ID\" from a table\n",
    "def extract_bsn_number_from_table(table_df):\n",
    "    if table_df is not None:\n",
    "        table_df.columns = [\"Name\", \"Value\"]  # Rename columns\n",
    "        table_df = table_df.map(lambda x: str(x).replace(\" \", \"\").strip() if pd.notna(x) else x)  # Remove extra spaces\n",
    "        if \"ServiceDescriptionID:\" in table_df[\"Name\"].values:\n",
    "            bsn_value = table_df.loc[table_df[\"Name\"] == \"ServiceDescriptionID:\", \"Value\"].values[0]\n",
    "\n",
    "            # Check if the value already starts with 'BSN'\n",
    "            if not bsn_value.startswith(\"BSN\"):\n",
    "                bsn_value = \"BSN\" + bsn_value\n",
    "\n",
    "            print(f\"Extracted BSN Number: {bsn_value}\")\n",
    "            return bsn_value\n",
    "        else:\n",
    "            print(\"Service Description ID not found in table.\\n\")\n",
    "    return None\n",
    "\n",
    "\n",
    "# Function to extract \"Service Description ID\" from a table\n",
    "def extract_version_number_from_table(table_df):\n",
    "    version_match = \"v01.40\"\n",
    "    value = False\n",
    "    if table_df is not None:\n",
    "        table_df.columns = [\"Name\", \"Value\"]  # Rename columns\n",
    "        table_df = table_df.map(str.strip)  # Remove leading/trailing spaces\n",
    "\n",
    "        if \"SD Template Version:\" in table_df[\"Name\"].values:\n",
    "            version_number = table_df.loc[table_df[\"Name\"] == \"SD Template Version:\", \"Value\"].values[0]\n",
    "\n",
    "            # Check if the SD file is in new version\n",
    "            if version_number == version_match:\n",
    "                value = True\n",
    "        else:\n",
    "            print(\"\\nSD Version is not found\")\n",
    "\n",
    "    return value"
   ],
   "id": "17f24a828b4a0645",
   "outputs": [],
   "execution_count": 2
  },
  {
   "metadata": {},
   "cell_type": "code",
   "outputs": [],
   "execution_count": null,
   "source": [
    "# Function to find the run of service text\n",
    "def find_ros_page_number(pdf_path, search_text):\n",
    "    occurrences = []  # List to store all occurrences\n",
    "    compiled_pattern = re.compile(search_text, re.IGNORECASE)\n",
    "\n",
    "    try:\n",
    "        with pdfplumber.open(pdf_path) as pdf:\n",
    "            for page_number, page in enumerate(pdf.pages, start=1):  # Pages are 1-indexed\n",
    "                text = page.extract_text()\n",
    "                if text:  # Ensure the page contains text\n",
    "                    normalized_text = re.sub(r'\\s+', ' ', text.strip())  # Normalize text\n",
    "\n",
    "                    if compiled_pattern.search(normalized_text):\n",
    "                        occurrences.append(page_number)  # Store the page number\n",
    "\n",
    "        # If no occurrences found, return an empty list\n",
    "        if not occurrences:\n",
    "            print(f\"\\nNo occurrences of '{search_text}' found in '{os.path.basename(pdf_path)}'.\")\n",
    "\n",
    "    except Exception as e:\n",
    "        print(f\"\\nError processing '{os.path.basename(pdf_path)}': {e}\")\n",
    "\n",
    "    return occurrences  # Return the full list of occurrences\n",
    "\n",
    "\n",
    "def extract_ros_details_from_pdf(pdf_path):\n"
   ],
   "id": "6d5a0177744edda4"
  },
  {
   "metadata": {
    "ExecuteTime": {
     "end_time": "2025-03-18T14:36:55.951281Z",
     "start_time": "2025-03-18T14:36:55.937447Z"
    }
   },
   "cell_type": "code",
   "source": [
    "def main(pdf_path, excel_path):\n",
    "    ### Main code to extract BSN details\n",
    "    bsn_table_df = extract_bsn_table_from_pdf(pdf_path)\n",
    "    bsn_value = extract_bsn_number_from_table(bsn_table_df)\n",
    "    # version_number = extract_version_number_from_table(bsn_table_df)\n",
    "    #----------------------------------------------------------------------------------------------------------------------#\n",
    "\n",
    "    ### Main code to extract Run of Service\n",
    "    print(\"\\nThe Run of Service details:\")\n",
    "    print(\"-------------------------\")\n",
    "\n",
    "    empty_dict = {\"\": \"\"}\n",
    "\n",
    "    ros_start_text = r\"\\d+\\.\\d+(\\.\\d+)?\\sRun of Service\"\n",
    "    ros_end_text = r\"\\d+\\.\\d+(\\.\\d+)?\\sRetirement of Service\"\n",
    "\n",
    "    start_pages, end_pages, material_page_numbers = create_page_list(pdf_path, material_search_start_text,\n",
    "                                                                     material_search_end_text)\n",
    "\n",
    "    # print(f\"Found Start Pages: {start_pages}\")\n",
    "    # print(f\"Found End Pages: {end_pages}\")\n",
    "    # print(f\"Page Range: {material_page_numbers}\")\n",
    "\n",
    "    if material_page_numbers:\n",
    "        extracted_material_data = extract_data_from_material_tables(pdf_path, material_page_numbers)\n",
    "        if len(extracted_material_data) == 0:\n",
    "            print(\"\\nService Availability details are not available in the SD file.\\n\")\n",
    "            print(empty_dict)\n",
    "        else:\n",
    "            print(f\"\\n{extracted_material_data}\")\n",
    "    else:\n",
    "        print(\"\\nService Availability details are not available in the SD file.\")\n",
    "    #----------------------------------------------------------------------------------------------------------------------#\n",
    "\n",
    "    # ### Main code to insert all the extracted data into the Excel\n",
    "    # print(\"\\n\\nGetting data into the Excel...\\n\")\n",
    "    #\n",
    "    # insert_data_to_excel(excel_path, bsn_value, response_time_list, resolution_time_list, extracted_material_data,\n",
    "    #                      extracted_drc_value, support_hour_dict)"
   ],
   "id": "1833afb8e968bab7",
   "outputs": [],
   "execution_count": 3
  },
  {
   "metadata": {
    "ExecuteTime": {
     "end_time": "2025-03-18T14:36:56.528296Z",
     "start_time": "2025-03-18T14:36:55.951281Z"
    }
   },
   "cell_type": "code",
   "source": [
    "# Define paths\n",
    "folder_path = r\"C:/Users/rmya5fe/OneDrive - Allianz/01_Automated Reports/07_Sample_SDs\"\n",
    "database_path = os.path.join(folder_path, \"Database\")\n",
    "excel_path = os.path.join(folder_path, \"01_SLA_extract_from_SD.xlsx\")\n",
    "# excel_path = os.path.join(folder_path, \"Database\\_sample_sd\\SLA_extract_from_SD.xlsx\")\n",
    "\n",
    "# Example usage\n",
    "file_name = \"8000013_FILE_SERVICE_LINE_FILEXCHANGE_SD_V04.10.pdf\"  # Example file name\n",
    "pdf_path = os.path.join(database_path, file_name)\n",
    "main(pdf_path, excel_path)"
   ],
   "id": "170d85bf370450b3",
   "outputs": [
    {
     "name": "stdout",
     "output_type": "stream",
     "text": [
      "Extracted BSN Number: BSN8000013\n"
     ]
    }
   ],
   "execution_count": 4
  },
  {
   "metadata": {
    "ExecuteTime": {
     "end_time": "2025-03-18T14:36:56.565354Z",
     "start_time": "2025-03-18T14:36:56.559309Z"
    }
   },
   "cell_type": "code",
   "source": "",
   "id": "1078cf6873b75ad9",
   "outputs": [],
   "execution_count": null
  },
  {
   "metadata": {
    "ExecuteTime": {
     "end_time": "2025-03-18T14:36:56.583181Z",
     "start_time": "2025-03-18T14:36:56.579373Z"
    }
   },
   "cell_type": "code",
   "source": "",
   "id": "31c6df1457ec6d29",
   "outputs": [],
   "execution_count": null
  },
  {
   "metadata": {
    "ExecuteTime": {
     "end_time": "2025-03-18T14:36:56.600252Z",
     "start_time": "2025-03-18T14:36:56.595431Z"
    }
   },
   "cell_type": "code",
   "source": [
    "# Different pdf\n",
    "# 8033151"
   ],
   "id": "505ef503e2a83489",
   "outputs": [],
   "execution_count": null
  },
  {
   "metadata": {
    "ExecuteTime": {
     "end_time": "2025-03-18T14:36:56.620853Z",
     "start_time": "2025-03-18T14:36:56.611369Z"
    }
   },
   "cell_type": "code",
   "source": "",
   "id": "a49f0354c0eda9b8",
   "outputs": [],
   "execution_count": null
  },
  {
   "metadata": {
    "ExecuteTime": {
     "end_time": "2025-03-18T14:36:56.646266Z",
     "start_time": "2025-03-18T14:36:56.643359Z"
    }
   },
   "cell_type": "code",
   "source": "",
   "id": "98feb5770f6435a2",
   "outputs": [],
   "execution_count": null
  },
  {
   "metadata": {
    "ExecuteTime": {
     "end_time": "2025-03-18T14:36:56.668110Z",
     "start_time": "2025-03-18T14:36:56.655620Z"
    }
   },
   "cell_type": "code",
   "source": "",
   "id": "199c670082399bb4",
   "outputs": [],
   "execution_count": null
  },
  {
   "metadata": {
    "ExecuteTime": {
     "end_time": "2025-03-18T14:36:56.695841Z",
     "start_time": "2025-03-18T14:36:56.687449Z"
    }
   },
   "cell_type": "code",
   "source": "",
   "id": "b2af749d3a9ae061",
   "outputs": [],
   "execution_count": null
  },
  {
   "metadata": {
    "ExecuteTime": {
     "end_time": "2025-03-18T14:36:56.718790Z",
     "start_time": "2025-03-18T14:36:56.702635Z"
    }
   },
   "cell_type": "code",
   "source": "",
   "id": "c4218486bf30bb4e",
   "outputs": [],
   "execution_count": null
  },
  {
   "metadata": {
    "ExecuteTime": {
     "end_time": "2025-03-18T14:36:56.739328Z",
     "start_time": "2025-03-18T14:36:56.734470Z"
    }
   },
   "cell_type": "code",
   "source": "",
   "id": "6617544029b20038",
   "outputs": [],
   "execution_count": null
  },
  {
   "metadata": {
    "ExecuteTime": {
     "end_time": "2025-03-18T14:36:56.762533Z",
     "start_time": "2025-03-18T14:36:56.750209Z"
    }
   },
   "cell_type": "code",
   "source": "",
   "id": "879ecdd409c16930",
   "outputs": [],
   "execution_count": null
  },
  {
   "metadata": {
    "ExecuteTime": {
     "end_time": "2025-03-18T14:36:56.785154Z",
     "start_time": "2025-03-18T14:36:56.782022Z"
    }
   },
   "cell_type": "code",
   "source": "",
   "id": "6fe4eecb51e49f77",
   "outputs": [],
   "execution_count": null
  },
  {
   "metadata": {
    "ExecuteTime": {
     "end_time": "2025-03-18T14:36:56.806032Z",
     "start_time": "2025-03-18T14:36:56.798487Z"
    }
   },
   "cell_type": "code",
   "source": "",
   "id": "28aa54153b495e39",
   "outputs": [],
   "execution_count": null
  },
  {
   "metadata": {
    "ExecuteTime": {
     "end_time": "2025-03-18T14:36:56.822419Z",
     "start_time": "2025-03-18T14:36:56.813550Z"
    }
   },
   "cell_type": "code",
   "source": "",
   "id": "539695454a7b22a0",
   "outputs": [],
   "execution_count": null
  },
  {
   "metadata": {
    "ExecuteTime": {
     "end_time": "2025-03-18T14:36:56.845208Z",
     "start_time": "2025-03-18T14:36:56.832366Z"
    }
   },
   "cell_type": "code",
   "source": "",
   "id": "781d64200274ff7c",
   "outputs": [],
   "execution_count": null
  },
  {
   "metadata": {
    "ExecuteTime": {
     "end_time": "2025-03-18T14:36:56.866828Z",
     "start_time": "2025-03-18T14:36:56.860776Z"
    }
   },
   "cell_type": "code",
   "source": "",
   "id": "be5749e93f8a32a0",
   "outputs": [],
   "execution_count": null
  },
  {
   "metadata": {
    "ExecuteTime": {
     "end_time": "2025-03-18T14:36:56.889201Z",
     "start_time": "2025-03-18T14:36:56.876537Z"
    }
   },
   "cell_type": "code",
   "source": "",
   "id": "d7e9ddef1561b45a",
   "outputs": [],
   "execution_count": null
  },
  {
   "metadata": {
    "ExecuteTime": {
     "end_time": "2025-03-18T14:36:56.906895Z",
     "start_time": "2025-03-18T14:36:56.895938Z"
    }
   },
   "cell_type": "code",
   "source": "",
   "id": "41f6f5277bffdae9",
   "outputs": [],
   "execution_count": null
  },
  {
   "metadata": {
    "ExecuteTime": {
     "end_time": "2025-03-18T14:36:56.933242Z",
     "start_time": "2025-03-18T14:36:56.928618Z"
    }
   },
   "cell_type": "code",
   "source": "",
   "id": "9f15b13413616f97",
   "outputs": [],
   "execution_count": null
  }
 ],
 "metadata": {
  "kernelspec": {
   "display_name": "Python 3",
   "language": "python",
   "name": "python3"
  },
  "language_info": {
   "codemirror_mode": {
    "name": "ipython",
    "version": 2
   },
   "file_extension": ".py",
   "mimetype": "text/x-python",
   "name": "python",
   "nbconvert_exporter": "python",
   "pygments_lexer": "ipython2",
   "version": "2.7.6"
  }
 },
 "nbformat": 4,
 "nbformat_minor": 5
}
